{
 "cells": [
  {
   "cell_type": "code",
   "execution_count": 1,
   "id": "28dec214",
   "metadata": {},
   "outputs": [
    {
     "name": "stderr",
     "output_type": "stream",
     "text": [
      "/depot/awasser/apps/psi4_1.8_pyscf_2.3.0/lib/python3.8/site-packages/pyscf/dft/libxc.py:772: UserWarning: Since PySCF-2.3, B3LYP (and B3P86) are changed to the VWN-RPA variant, the same to the B3LYP functional in Gaussian and ORCA (issue 1480). To restore the VWN5 definition, you can put the setting \"B3LYP_WITH_VWN5 = True\" in pyscf_conf.py\n",
      "  warnings.warn('Since PySCF-2.3, B3LYP (and B3P86) are changed to the VWN-RPA variant, '\n"
     ]
    }
   ],
   "source": [
    "import pyscf\n",
    "from pyscf import gto, dft, cc, scf, fci\n",
    "import numpy as np\n",
    "import matplotlib.pyplot as plt"
   ]
  },
  {
   "cell_type": "markdown",
   "id": "5a55091c",
   "metadata": {},
   "source": [
    "### Work flow\n",
    "\n",
    "Currently I work almost entirely on RCAC's bell node, using jupyter notebook for simple jobs, or submitting jobs via SLURM for more demanding jobs. This is easily accessible through your browser (https://gateway.bell.rcac.purdue.edu/pun/sys/dashboard), through ssh from your local machine, or the remote terminal also available on the bell gateway."
   ]
  },
  {
   "cell_type": "markdown",
   "id": "59ac0e37",
   "metadata": {},
   "source": [
    "### References for electronic structure and pyscf\n",
    "\n",
    "Dr. Slipchenko's chm673 github page with slides based on the blue book (szabo) <br>\n",
    "(an introduction to electronic structure calculations at large, unforunately does not cover DFT) <br>\n",
    "https://github.com/slipchenko/CHM673?tab=readme-ov-file <br>\n",
    "\n",
    "for HF/SCF scheme: <br>\n",
    "https://insilicosci.com/hartree-fock-method-a-simple-explanation/ <br>\n",
    "\n",
    "For DFT, Either ABC's of DFT or Adam's notes: <br>\n",
    "(has helpful dictionary pg 9) <br>\n",
    "https://dft.uci.edu/doc/g1.pdf  <br>\n",
    "\n",
    "PYSCF documentation<br>\n",
    "(is spread out between the next 3 links, topmost easiest to understand, source code hardest but most direct)<br>\n",
    "https://pyscf.org/user.html<br>\n",
    "https://pyscf.org/pyscf_api_docs/pyscf.dft.html<br>\n",
    "\n",
    "PYSCF source code:<br>\n",
    "https://github.com/pyscf/pyscf/blob/master/pyscf/dft/rks.py<br>\n",
    "\n",
    "PYSCF examples github page<br>\n",
    "(sometimes helpful examples for problems you might come across)<br>\n",
    "https://github.com/pyscf/pyscf/tree/master/examples<br>\n",
    "\n",
    "While written for PSI4, these tutorials are still very good<br>\n",
    "(for psi4, but very thorough and well done tutorials)<br>\n",
    "https://github.com/psi4/psi4numpy/tree/master/Tutorials<br>"
   ]
  },
  {
   "cell_type": "markdown",
   "id": "10fcb271",
   "metadata": {},
   "source": [
    "### Pyscf\n",
    "\n",
    "pyscf is an electronic strucutre package in Python. pyscf is quite similiar to Psi4 in a lot of ways. Here is how the calculation for a simple molecule might look in pyscf"
   ]
  },
  {
   "cell_type": "code",
   "execution_count": 2,
   "id": "47622184",
   "metadata": {},
   "outputs": [],
   "source": [
    "#set up the geometry of your molecule, there are various formats you can use, here I used a Z-matrix\n",
    "h2 = gto.M(atom =f\"\"\"\n",
    "    H\n",
    "    H 1 0.74\n",
    "\"\"\", basis = 'cc-pvdz', spin=0)\n",
    "# There are more options, but here we specify the basis and the spin(2S, or alpha - beta)"
   ]
  },
  {
   "cell_type": "code",
   "execution_count": 3,
   "id": "4d3f9fcb",
   "metadata": {},
   "outputs": [
    {
     "name": "stdout",
     "output_type": "stream",
     "text": [
      "converged SCF energy = -1.12870009355644\n"
     ]
    },
    {
     "data": {
      "text/plain": [
       "-1.1287000935564406"
      ]
     },
     "execution_count": 3,
     "metadata": {},
     "output_type": "execute_result"
    }
   ],
   "source": [
    "#lets start with a restricted hartree fock calculation\n",
    "myhf = scf.RHF(h2)\n",
    "#then kernel() does the calculation\n",
    "myhf.kernel()"
   ]
  },
  {
   "cell_type": "code",
   "execution_count": 4,
   "id": "e07fb4f9",
   "metadata": {},
   "outputs": [
    {
     "name": "stdout",
     "output_type": "stream",
     "text": [
      "converged SCF energy = -1.12870009355644\n",
      "-1.1287000935564406\n",
      "-1.1287000935564406\n"
     ]
    }
   ],
   "source": [
    "# the energy can either be written to a variable directly, or accessed later on via:\n",
    "energy_hf = myhf.kernel()\n",
    "print(energy_hf)\n",
    "print(myhf.e_tot)"
   ]
  },
  {
   "cell_type": "code",
   "execution_count": 5,
   "id": "2f1cac63",
   "metadata": {},
   "outputs": [],
   "source": [
    "# for some challenging structures, it is also a good idea to check if the solution is stable, that is, can a small change bring us lower in energy?\n",
    "# internal = within our constraints on the wf\n",
    "# external = breaking our constraints on the wf\n",
    "# if the solution is hard to converge/unstable you can try a second order convergence method, such as newton() in pyscf"
   ]
  },
  {
   "cell_type": "code",
   "execution_count": 6,
   "id": "88f833e6",
   "metadata": {
    "scrolled": true
   },
   "outputs": [
    {
     "name": "stdout",
     "output_type": "stream",
     "text": [
      "<class 'pyscf.scf.hf.RHF'> wavefunction is stable in the internal stability analysis\n"
     ]
    },
    {
     "data": {
      "text/plain": [
       "(array([[ 4.03664765e-01, -1.50244032e-01, -7.00107677e-01,\n",
       "         -7.60674244e-01,  2.40616190e-18, -1.36829553e-16,\n",
       "         -4.43728072e-01, -1.88263747e-17,  8.07638220e-16,\n",
       "          2.68617997e+00],\n",
       "        [ 1.73762870e-01, -1.95865624e+00,  7.26372802e-01,\n",
       "          1.61734280e+00, -7.91626372e-16, -2.23379778e-16,\n",
       "          2.21064673e-01,  1.37188203e-16, -6.93999281e-16,\n",
       "          5.05843355e-02],\n",
       "        [ 2.24974536e-02, -1.42535410e-02, -1.12663025e-02,\n",
       "          4.10218210e-01,  9.99687175e-17,  8.40587271e-17,\n",
       "          7.26901334e-01, -3.74261988e-17, -1.31765810e-15,\n",
       "          2.02675347e+00],\n",
       "        [-1.28334802e-17, -9.25829683e-17, -1.00355606e-16,\n",
       "          2.78583291e-16,  5.32147154e-01,  2.28279751e-01,\n",
       "          1.51297282e-15, -9.67274286e-02,  9.86619772e-01,\n",
       "         -3.14595112e-17],\n",
       "        [ 2.89632829e-18,  4.74260549e-17, -8.55523208e-17,\n",
       "          4.22106790e-17, -2.28279751e-01,  5.32147154e-01,\n",
       "          2.14919546e-16,  9.86619772e-01,  9.67274286e-02,\n",
       "         -1.98549580e-19],\n",
       "        [ 4.03664765e-01,  1.50244032e-01, -7.00107677e-01,\n",
       "          7.60674244e-01, -4.00002272e-16, -4.64894814e-16,\n",
       "         -4.43728072e-01, -1.92569981e-17,  6.45098951e-16,\n",
       "         -2.68617997e+00],\n",
       "        [ 1.73762870e-01,  1.95865624e+00,  7.26372802e-01,\n",
       "         -1.61734280e+00,  1.08572301e-15,  7.41942301e-16,\n",
       "          2.21064673e-01, -7.66834818e-17,  5.09531360e-17,\n",
       "         -5.05843355e-02],\n",
       "        [-2.24974536e-02, -1.42535410e-02,  1.12663025e-02,\n",
       "          4.10218210e-01, -3.54404018e-16, -2.89488765e-16,\n",
       "         -7.26901334e-01,  3.86387958e-17,  1.24979237e-15,\n",
       "          2.02675347e+00],\n",
       "        [-2.40377049e-18, -3.73867958e-17, -2.23470749e-17,\n",
       "          1.10577542e-16,  5.32147154e-01,  2.28279751e-01,\n",
       "         -1.94974488e-15,  9.67274286e-02, -9.86619772e-01,\n",
       "          8.18471576e-18],\n",
       "        [ 2.41383814e-19,  1.91540521e-17, -5.26277665e-17,\n",
       "          2.31573627e-17, -2.28279751e-01,  5.32147154e-01,\n",
       "         -2.12713928e-16, -9.86619772e-01, -9.67274286e-02,\n",
       "          4.74129702e-19]]),\n",
       " None)"
      ]
     },
     "execution_count": 6,
     "metadata": {},
     "output_type": "execute_result"
    }
   ],
   "source": [
    "myhf.stability()"
   ]
  },
  {
   "cell_type": "code",
   "execution_count": 7,
   "id": "87986539",
   "metadata": {},
   "outputs": [],
   "source": [
    "#once you have run the calculation, you can easily make your 1-particle reduced density matrix"
   ]
  },
  {
   "cell_type": "code",
   "execution_count": 8,
   "id": "939de061",
   "metadata": {},
   "outputs": [],
   "source": [
    "Dhf = myhf.make_rdm1()"
   ]
  },
  {
   "cell_type": "code",
   "execution_count": 9,
   "id": "713ab5b7",
   "metadata": {},
   "outputs": [],
   "source": [
    "#it is important to note whether the rdm is on the atomic or molecular orbitals, which is usaully in the documentation, or you can check using the overlap matrix, S"
   ]
  },
  {
   "cell_type": "code",
   "execution_count": 10,
   "id": "40dc6c06",
   "metadata": {},
   "outputs": [
    {
     "name": "stdout",
     "output_type": "stream",
     "text": [
      "1.9999999999999993\n"
     ]
    }
   ],
   "source": [
    "S = h2.intor(\"int1e_ovlp\")\n",
    "print(np.sum(Dhf*S))\n",
    "# which should return the # of electrons"
   ]
  },
  {
   "cell_type": "code",
   "execution_count": 11,
   "id": "2e1f92a7",
   "metadata": {},
   "outputs": [
    {
     "name": "stdout",
     "output_type": "stream",
     "text": [
      "-1.1633744903192411\n"
     ]
    }
   ],
   "source": [
    "# for very small number of electrons we can do FCI calcultions directly in jupyter, for larger systems we want to submit jobs\n",
    "# however, FCI scales incredibly poorly meaning anything with more than ~10 electrons is inaccessible in a reasonable basis set\n",
    "# recall that FCI requires a previous calculation to generate the orbitals\n",
    "myfci = pyscf.fci.FCI(myhf)\n",
    "myfci.kernel()\n",
    "Dfci = myfci.make_rdm1(myfci.ci, myfci.norb, myfci.nelec)\n",
    "print(myfci.e_tot)"
   ]
  },
  {
   "cell_type": "code",
   "execution_count": 12,
   "id": "f2096d95",
   "metadata": {},
   "outputs": [],
   "source": [
    "# check job_example/ for an example how how to submit jobs to SLURM"
   ]
  },
  {
   "cell_type": "markdown",
   "id": "7ea86bb1",
   "metadata": {},
   "source": [
    "### DFT calculation in pyscf\n",
    "performing a dft calculation is very similiar to HF"
   ]
  },
  {
   "cell_type": "code",
   "execution_count": 13,
   "id": "105ca5f3",
   "metadata": {},
   "outputs": [],
   "source": [
    "# first you need your geometry\n",
    "h2 = gto.M(atom =f\"\"\"\n",
    "    H\n",
    "    H 1 0.74\n",
    "\"\"\", basis = 'cc-pvdz', spin=0)"
   ]
  },
  {
   "cell_type": "code",
   "execution_count": 14,
   "id": "b613c1ab",
   "metadata": {
    "scrolled": true
   },
   "outputs": [
    {
     "name": "stdout",
     "output_type": "stream",
     "text": [
      "\n",
      "\n",
      "******** <class 'pyscf.dft.rks.RKS'> ********\n",
      "method = RKS\n",
      "initial guess = minao\n",
      "damping factor = 0\n",
      "level_shift factor = 0\n",
      "DIIS = <class 'pyscf.scf.diis.CDIIS'>\n",
      "diis_start_cycle = 1\n",
      "diis_space = 8\n",
      "SCF conv_tol = 1e-09\n",
      "SCF conv_tol_grad = None\n",
      "SCF max_cycles = 50\n",
      "direct_scf = True\n",
      "direct_scf_tol = 1e-13\n",
      "chkfile to save SCF result = /tmp/tmp2is0ypgm\n",
      "max_memory 4000 MB (current use 145 MB)\n",
      "XC library pyscf.dft.libxc version 6.1.0\n",
      "    S. Lehtola, C. Steigemann, M. J.T. Oliveira, and M. A.L. Marques.,  SoftwareX 7, 1–5 (2018)\n",
      "XC functionals = pbe\n",
      "    J. P. Perdew, K. Burke, and M. Ernzerhof.,  Phys. Rev. Lett. 77, 3865 (1996)\n",
      "    J. P. Perdew, K. Burke, and M. Ernzerhof.,  Phys. Rev. Lett. 78, 1396 (1997)\n",
      "    J. P. Perdew, K. Burke, and M. Ernzerhof.,  Phys. Rev. Lett. 77, 3865 (1996)\n",
      "    J. P. Perdew, K. Burke, and M. Ernzerhof.,  Phys. Rev. Lett. 78, 1396 (1997)\n",
      "small_rho_cutoff = 1e-07\n",
      "Set gradient conv threshold to 3.16228e-05\n",
      "Initial guess from minao.\n",
      "Nelec from initial guess = 1.9983639684071102\n",
      "    CPU time for setting up grids      0.04 sec, wall time      0.04 sec\n",
      "nelec by numeric integration = 1.9983639635162396\n",
      "    CPU time for vxc      0.02 sec, wall time      0.02 sec\n",
      "E1 = -2.239238738495869  Ecoul = 1.2072252678688242  Exc = -0.6418020684760446\n",
      "init E= -0.958711200022008\n",
      "cond(S) = 71.47879420773849\n",
      "    CPU time for initialize scf      0.09 sec, wall time      0.09 sec\n",
      "  HOMO = -0.427290017339496  LUMO = 0.0351893411611267\n",
      "  mo_energy =\n",
      "[-0.42729002  0.03518934  0.28034892  0.6284704   0.94727089  0.94727089\n",
      "  1.58097036  1.67886154  1.67886154  3.14881418]\n",
      "nelec by numeric integration = 1.9999999956389272\n",
      "    CPU time for vxc      0.02 sec, wall time      0.02 sec\n",
      "E1 = -2.519278060890187  Ecoul = 1.3540075474390887  Exc = -0.7082659137527105\n",
      "cycle= 1 E= -1.15843208812273  delta_E= -0.2  |g|= 0.0526  |ddm|= 0.745\n",
      "    CPU time for cycle= 1      0.03 sec, wall time      0.03 sec\n",
      "diis-norm(errvec)=0.0743924\n",
      "diis-c [-0.00553423  1.        ]\n",
      "  HOMO = -0.361644210427713  LUMO = 0.0646521806700521\n",
      "  mo_energy =\n",
      "[-0.36164421  0.06465218  0.31721034  0.67914154  1.00786193  1.00786193\n",
      "  1.63851747  1.73266834  1.73266834  3.21819506]\n",
      "nelec by numeric integration = 1.999999995894423\n",
      "    CPU time for vxc      0.02 sec, wall time      0.02 sec\n",
      "E1 = -2.4968333797408193  Ecoul = 1.3067432405616295  Exc = -0.6847252764824592\n",
      "cycle= 2 E= -1.15971107658057  delta_E= -0.00128  |g|= 0.0166  |ddm|= 0.0905\n",
      "    CPU time for cycle= 2      0.03 sec, wall time      0.03 sec\n",
      "diis-norm(errvec)=0.0234082\n",
      "diis-c [-2.81679097e-07  2.39304161e-01  7.60695839e-01]\n",
      "  HOMO = -0.376894386939106  LUMO = 0.0577294060015611\n",
      "  mo_energy =\n",
      "[-0.37689439  0.05772941  0.30843377  0.6673274   0.99330349  0.99330349\n",
      "  1.62449483  1.72009637  1.72009637  3.202632  ]\n",
      "nelec by numeric integration = 1.9999999958356047\n",
      "    CPU time for vxc      0.02 sec, wall time      0.02 sec\n",
      "E1 = -2.502549654817536  Ecoul = 1.3178628535402186  Exc = -0.6902646174453597\n",
      "cycle= 3 E= -1.1598470796416  delta_E= -0.000136  |g|= 4.31e-05  |ddm|= 0.0208\n",
      "    CPU time for cycle= 3      0.03 sec, wall time      0.03 sec\n",
      "diis-norm(errvec)=6.09447e-05\n",
      "diis-c [-5.77322851e-11 -1.02963985e-02 -3.52265413e-02  1.04552294e+00]\n",
      "  HOMO = -0.376912201990582  LUMO = 0.0577091909065495\n",
      "  mo_energy =\n",
      "[-0.3769122   0.05770919  0.30840031  0.66729171  0.99328871  0.99328871\n",
      "  1.62448357  1.72009083  1.72009083  3.20261524]\n",
      "nelec by numeric integration = 1.9999999958355108\n",
      "    CPU time for vxc      0.02 sec, wall time      0.02 sec\n",
      "E1 = -2.502561666595223  Ecoul = 1.3178862707394197  Exc = -0.6902760235674656\n",
      "cycle= 4 E= -1.15984708034219  delta_E= -7.01e-10  |g|= 5.95e-07  |ddm|= 3.65e-05\n",
      "    CPU time for cycle= 4      0.03 sec, wall time      0.03 sec\n",
      "  HOMO = -0.376912834856435  LUMO = 0.0577092469919315\n",
      "  mo_energy =\n",
      "[-0.37691283  0.05770925  0.30840077  0.66729213  0.99328798  0.99328798\n",
      "  1.62448298  1.72008997  1.72008997  3.20261473]\n",
      "nelec by numeric integration = 1.9999999958355108\n",
      "    CPU time for vxc      0.02 sec, wall time      0.02 sec\n",
      "E1 = -2.5025615707376314  Ecoul = 1.3178860941090915  Exc = -0.6902759427948173\n",
      "Extra cycle  E= -1.15984708034228  delta_E= -8.82e-14  |g|= 6.69e-08  |ddm|= 2.83e-07\n",
      "    CPU time for scf_cycle      0.23 sec, wall time      0.23 sec\n",
      "    CPU time for SCF      0.24 sec, wall time      0.24 sec\n",
      "converged SCF energy = -1.15984708034228\n"
     ]
    },
    {
     "data": {
      "text/plain": [
       "-1.159847080342276"
      ]
     },
     "execution_count": 14,
     "metadata": {},
     "output_type": "execute_result"
    }
   ],
   "source": [
    "#then we setup our restricted Kohn-Sham DFT calculation\n",
    "mypbe=dft.RKS(h2)\n",
    "mypbe.verbose = 9  #1-9 how much output?\n",
    "#for DFT, we need to additionally specify which XC functional we wish to use\n",
    "mypbe.xc = 'pbe' # = 'pbe,pbe'\n",
    "#mypbe.xc = ',pbe' only pbe correlation\n",
    "#mypbe.xc = 'pbe,' only pbe exchange\n",
    "#then we use kernel() to execute the calculation\n",
    "mypbe.kernel()"
   ]
  },
  {
   "cell_type": "code",
   "execution_count": 15,
   "id": "412fdc85",
   "metadata": {},
   "outputs": [
    {
     "name": "stdout",
     "output_type": "stream",
     "text": [
      "-1.159847080342276\n"
     ]
    }
   ],
   "source": [
    "#similiar to HF, we can access the energy:\n",
    "print(mypbe.e_tot)"
   ]
  },
  {
   "cell_type": "code",
   "execution_count": 16,
   "id": "18990ea2",
   "metadata": {},
   "outputs": [
    {
     "name": "stdout",
     "output_type": "stream",
     "text": [
      "converged SCF energy = -1.03722545361317\n"
     ]
    },
    {
     "data": {
      "text/plain": [
       "-1.0372254536131713"
      ]
     },
     "execution_count": 16,
     "metadata": {},
     "output_type": "execute_result"
    }
   ],
   "source": [
    "#we could also have used a different functional, a list of aliases for common functionals\n",
    "# can be found here (assuming you use the defualt libxc) https://github.com/pyscf/pyscf/blob/master/pyscf/dft/libxc.py\n",
    "mylda=dft.RKS(h2)\n",
    "mylda.xc = 'lda'\n",
    "mylda.kernel()"
   ]
  },
  {
   "cell_type": "code",
   "execution_count": 17,
   "id": "96f4c4a3",
   "metadata": {},
   "outputs": [
    {
     "name": "stdout",
     "output_type": "stream",
     "text": [
      "Total energy: -1.159847080342276 Hartree\n",
      "Coulomb energy: 1.3178860941090915 Hartree\n",
      "Exchange-correlation energy: -0.6902759427948173 Hartree\n",
      "Nuclear repulsion energy: 0.7151043390810812 Hartree\n",
      "Electronic energy: -1.8749514194233572 Hartree\n"
     ]
    }
   ],
   "source": [
    "# it can also be useful to extract the energy components of the DFT energy\n",
    "# recall E_ks = Ts + E_ext + E_J + E_xc (11.10)\n",
    "# and to get the total energy, we add the electric to the nuclear replusion energy\n",
    "# in pyscf, hcore contains both the Ts and E_ext terms\n",
    "# many quantities are easily acessible:\n",
    "\n",
    "# Total energy\n",
    "print(f\"Total energy: {mypbe.e_tot} Hartree\")\n",
    "\n",
    "mypbe.verbose = 0\n",
    "# get_veff calculates columb energy (J) + XC, and each part is accessbile with .ecoul or .exc\n",
    "# Coulomb energy (Hartree energy)\n",
    "print(f\"Coulomb energy: {mypbe.get_veff().ecoul} Hartree\")\n",
    "# Exchange-correlation energy\n",
    "print(f\"Exchange-correlation energy: {mypbe.get_veff().exc} Hartree\")\n",
    "\n",
    "# Nuclear repulsion energy\n",
    "print(f\"Nuclear repulsion energy: {mypbe.energy_nuc()} Hartree\")\n",
    "\n",
    "# note we can also access the electronic energy with energy_elec(), which returns: (electronic energy, 2electron contribution)\n",
    "print(f\"Electronic energy: {mypbe.energy_elec()[0]} Hartree\")\n"
   ]
  },
  {
   "cell_type": "code",
   "execution_count": 18,
   "id": "ebe0d856",
   "metadata": {},
   "outputs": [
    {
     "name": "stdout",
     "output_type": "stream",
     "text": [
      "0.5501353647823175\n"
     ]
    }
   ],
   "source": [
    "# Lastly we need Ts and E_ext, these can be accesed simultaneously within hcore\n",
    "# We can also analytically find Ts:\n",
    "# https://pyscf.org/user/dft.html#numerical-integration-grids\n",
    "#t_s = 0.5 sum_occ ( | nabla phi_i |^2 ) kinetic energy density\n",
    "#T_s = int (ts) dr Kinetic Energy\n",
    "occ_orbs = mypbe.mo_coeff[:, mypbe.mo_occ > 0.]\n",
    "Ts_ao = h2.intor('int1e_kin') # pyscf has a supported list of AO integrals, this is 1e kinetic\n",
    "Ts_analyt = np.einsum('ui,uv,vi->', occ_orbs, Ts_ao, occ_orbs)\n",
    "print(Ts_analyt)"
   ]
  },
  {
   "cell_type": "code",
   "execution_count": 19,
   "id": "d5067a1a",
   "metadata": {},
   "outputs": [
    {
     "name": "stdout",
     "output_type": "stream",
     "text": [
      "-2.5025615707376314\n"
     ]
    }
   ],
   "source": [
    "# as aforementioned we can access Ts and E_ext using hcore:\n",
    "# finding <phi|Hcore|phi> using density matrix (on AO)\n",
    "h1e = mypbe.get_hcore()\n",
    "dm = mypbe.make_rdm1()\n",
    "e1 = np.einsum('ij,ji->', h1e, dm)\n",
    "print(e1)"
   ]
  },
  {
   "cell_type": "code",
   "execution_count": 20,
   "id": "646d55c8",
   "metadata": {},
   "outputs": [
    {
     "name": "stdout",
     "output_type": "stream",
     "text": [
      "-1.8749514194233572\n"
     ]
    }
   ],
   "source": [
    "# this will give us the total electronic energy\n",
    "print(e1+mypbe.get_veff().ecoul+mypbe.get_veff().exc)"
   ]
  },
  {
   "cell_type": "code",
   "execution_count": 21,
   "id": "7a2df2f9",
   "metadata": {},
   "outputs": [
    {
     "name": "stdout",
     "output_type": "stream",
     "text": [
      "-1.159847080342276\n",
      "-1.159847080342276\n"
     ]
    }
   ],
   "source": [
    "#if we add the nuclear energy does it match the energy from before?\n",
    "print(e1+mypbe.get_veff().ecoul+mypbe.get_veff().exc + mypbe.energy_nuc())\n",
    "print(mypbe.e_tot)"
   ]
  },
  {
   "cell_type": "code",
   "execution_count": 22,
   "id": "d54311fa",
   "metadata": {},
   "outputs": [
    {
     "data": {
      "text/plain": [
       "-3.0526969355199487"
      ]
     },
     "execution_count": 22,
     "metadata": {},
     "output_type": "execute_result"
    }
   ],
   "source": [
    "#E_ext\n",
    "e1-Ts_analyt"
   ]
  },
  {
   "cell_type": "code",
   "execution_count": 23,
   "id": "508da907",
   "metadata": {},
   "outputs": [],
   "source": [
    "# we can also seperate out the effects of Exchange and Correlation:\n",
    "# we do this by using the density matrix we made for h2 using PBE XC\n",
    "# and then compute the exc from get_veff using either only Exchange or only correlation PBE"
   ]
  },
  {
   "cell_type": "code",
   "execution_count": 24,
   "id": "66e3d262",
   "metadata": {},
   "outputs": [],
   "source": [
    "# define mypbe_x.xc to only have exchange part of pbe\n",
    "mypbe_x=dft.RKS(h2)\n",
    "mypbe_x.xc = 'pbe,'"
   ]
  },
  {
   "cell_type": "code",
   "execution_count": 25,
   "id": "0c1e91ee",
   "metadata": {},
   "outputs": [],
   "source": [
    "# define mypbe_x.xc to only have correlation part of pbe\n",
    "mypbe_c=dft.RKS(h2)\n",
    "mypbe_c.xc = ',pbe'"
   ]
  },
  {
   "cell_type": "code",
   "execution_count": 26,
   "id": "24845c52",
   "metadata": {},
   "outputs": [
    {
     "name": "stdout",
     "output_type": "stream",
     "text": [
      "-0.6452051510383275\n"
     ]
    }
   ],
   "source": [
    "#get_veff computes J+xc, but here we have only defined J+x\n",
    "# moreover, we are not interested in J, so we grab only the .exc component:\n",
    "ex=dft.rks.get_veff(mypbe_x, dm=dm).exc\n",
    "print(ex)"
   ]
  },
  {
   "cell_type": "code",
   "execution_count": 27,
   "id": "0919ea45",
   "metadata": {},
   "outputs": [
    {
     "name": "stdout",
     "output_type": "stream",
     "text": [
      "-0.045070791756299425\n"
     ]
    }
   ],
   "source": [
    "#likewise for Correlation\n",
    "ec=dft.rks.get_veff(mypbe_c, dm=dm).exc\n",
    "print(ec)"
   ]
  },
  {
   "cell_type": "code",
   "execution_count": 28,
   "id": "2ecb888c",
   "metadata": {},
   "outputs": [
    {
     "data": {
      "text/plain": [
       "-0.690275942794627"
      ]
     },
     "execution_count": 28,
     "metadata": {},
     "output_type": "execute_result"
    }
   ],
   "source": [
    "ex+ec"
   ]
  },
  {
   "cell_type": "code",
   "execution_count": 29,
   "id": "53109c0c",
   "metadata": {},
   "outputs": [
    {
     "data": {
      "text/plain": [
       "1.9029222642075183e-13"
      ]
     },
     "execution_count": 29,
     "metadata": {},
     "output_type": "execute_result"
    }
   ],
   "source": [
    "#compare with both X and C:\n",
    "(ex+ec)-dft.rks.get_veff(mypbe, dm=dm).exc\n",
    "#pretty close!"
   ]
  },
  {
   "cell_type": "markdown",
   "id": "d5ed6e06",
   "metadata": {},
   "source": [
    "### Plotting V_xc"
   ]
  },
  {
   "cell_type": "markdown",
   "id": "9c797d87",
   "metadata": {},
   "source": [
    "#### slice"
   ]
  },
  {
   "cell_type": "code",
   "execution_count": 30,
   "id": "42238e92",
   "metadata": {},
   "outputs": [
    {
     "name": "stdout",
     "output_type": "stream",
     "text": [
      "converged SCF energy = -1.13141128366178\n"
     ]
    },
    {
     "data": {
      "image/png": "[encoded data removed]",
      "text/plain": [
       "<Figure size 800x600 with 2 Axes>"
      ]
     },
     "metadata": {},
     "output_type": "display_data"
    }
   ],
   "source": [
    "import numpy as np\n",
    "import matplotlib.pyplot as plt\n",
    "from pyscf import gto, dft\n",
    "from pyscf.dft import numint\n",
    "\n",
    "# set up the geometry and DFT calculation\n",
    "mol = gto.M(atom =f\"\"\"\n",
    "    H -0.37 0 0\n",
    "    H  0.37 0 0\n",
    "\"\"\", basis = 'cc-pvdz', spin=0)\n",
    "\n",
    "mf = dft.RKS(mol)\n",
    "mf.kernel()\n",
    "dm = mf.make_rdm1()\n",
    "\n",
    "# Create a square grid on the xy-plane with z = 0\n",
    "grid_size = 200\n",
    "x = np.linspace(-3, 3, grid_size)\n",
    "y = np.linspace(-3, 3, grid_size)\n",
    "xv, yv = np.meshgrid(x, y)\n",
    "#mesh grid takes the axes we made and populates them with coordinates to form a grid plane\n",
    "coords_grid = np.array([xv.ravel(), yv.ravel(), np.zeros(grid_size * grid_size)]).T\n",
    "\n",
    "# Evaluate AO values on this grid\n",
    "ao_value_grid = numint.eval_ao(mol, coords_grid, deriv=1)\n",
    "# Compute the density on this grid\n",
    "rho_grid = numint.eval_rho(mol, ao_value_grid, dm, xctype='GGA')\n",
    "\n",
    "# Compute exchange-correlation potential on this grid\n",
    "exc_grid, vxc_grid = dft.libxc.eval_xc('pbe', rho_grid)[:2]\n",
    "vrho_grid = vxc_grid[0]\n",
    "\n",
    "# Reshape the data for plotting\n",
    "vrho_grid_reshaped = vrho_grid.reshape((grid_size, grid_size))\n",
    "\n",
    "# Plot V_xc on the custom grid\n",
    "plt.figure(figsize=(8, 6))\n",
    "plt.contourf(xv, yv, vrho_grid_reshaped, cmap='viridis')\n",
    "plt.colorbar(label='V_xc (vrho)')\n",
    "plt.xlabel('x (Bohr)')\n",
    "plt.ylabel('y (Bohr)')\n",
    "plt.title('Exchange-Correlation Potential (V_xc) Slice at z=0')\n",
    "plt.show()\n"
   ]
  },
  {
   "cell_type": "markdown",
   "id": "45fcb293",
   "metadata": {},
   "source": [
    "#### projection"
   ]
  },
  {
   "cell_type": "code",
   "execution_count": 7,
   "id": "4591d07b",
   "metadata": {},
   "outputs": [
    {
     "name": "stdout",
     "output_type": "stream",
     "text": [
      "converged SCF energy = -1.13141128366178\n"
     ]
    },
    {
     "data": {
      "image/png": "[encoded data removed]",
      "text/plain": [
       "<Figure size 800x600 with 2 Axes>"
      ]
     },
     "metadata": {},
     "output_type": "display_data"
    }
   ],
   "source": [
    "import numpy as np\n",
    "import matplotlib.pyplot as plt\n",
    "from pyscf import gto, dft\n",
    "from pyscf.dft import numint\n",
    "\n",
    "# Set up molecule and DFT calculation\n",
    "mol = gto.M(atom =f\"\"\"\n",
    "    H -0.37 0 0\n",
    "    H  0.37 0 0\n",
    "\"\"\", basis = 'cc-pvdz', spin=0)\n",
    "\n",
    "mf = dft.RKS(mol)\n",
    "mf.kernel()\n",
    "dm = mf.make_rdm1()\n",
    "\n",
    "# Create a 3D grid\n",
    "grid_size = 170\n",
    "x = np.linspace(-3, 3, grid_size)\n",
    "y = np.linspace(-3, 3, grid_size)\n",
    "z = np.linspace(-3, 3, grid_size)\n",
    "xv, yv, zv = np.meshgrid(x, y, z, indexing='ij')  # Use 'ij' indexing for consistent mesh\n",
    "\n",
    "coords_grid = np.array([xv.ravel(), yv.ravel(), zv.ravel()]).T\n",
    "\n",
    "# Evaluate AO values on this grid\n",
    "ao_value_grid = numint.eval_ao(mol, coords_grid, deriv=1)\n",
    "# Compute the density on this grid\n",
    "rho_grid = numint.eval_rho(mol, ao_value_grid, dm, xctype='GGA')\n",
    "\n",
    "# Compute exchange-correlation potential on this grid\n",
    "exc_grid, vxc_grid = dft.libxc.eval_xc('pbe', rho_grid)[:2]\n",
    "vrho_grid = vxc_grid[0]\n",
    "\n",
    "# Reshape vrho_grid to match the dimensions of coords_grid\n",
    "vrho_grid_reshaped = vrho_grid.reshape((grid_size, grid_size, grid_size))\n",
    "\n",
    "# Sum along the z-axis (axis=2) to project onto the xy-plane\n",
    "vrho_projected = np.sum(vrho_grid_reshaped, axis=2)\n",
    "\n",
    "# Plot projected V_xc on the xy-plane\n",
    "plt.figure(figsize=(8, 6))\n",
    "plt.contourf(xv[:, :, 0], yv[:, :, 0], vrho_projected, cmap='viridis')\n",
    "plt.colorbar(label='V_xc (vrho)')\n",
    "plt.xlabel('x (Bohr)')\n",
    "plt.ylabel('y (Bohr)')\n",
    "plt.title('Projected Exchange-Correlation Potential (V_xc) onto xy-plane')\n",
    "plt.show()\n",
    "\n"
   ]
  },
  {
   "cell_type": "code",
   "execution_count": 15,
   "id": "b3497e00",
   "metadata": {},
   "outputs": [
    {
     "name": "stdout",
     "output_type": "stream",
     "text": [
      "Total number of electrons: 1.9673701103049523\n"
     ]
    }
   ],
   "source": [
    "# lets make sure that we are doing this correctly. here we try to sum up all the electorn density at each grid point cube , which \n",
    "# should equal the total number of electrons.\n",
    "dx = x[1] - x[0]\n",
    "dy = y[1] - y[0]\n",
    "dz = z[1] - z[0]\n",
    "dV = dx * dy * dz\n",
    "\n",
    "# Sum the electron density values and multiply by the volume element to get the total number of electrons\n",
    "total_electrons = np.sum(rho_grid) * dV\n",
    "print(\"Total number of electrons:\", total_electrons)\n"
   ]
  },
  {
   "cell_type": "markdown",
   "id": "1a950967",
   "metadata": {},
   "source": [
    "## An example; dissociation of H2"
   ]
  },
  {
   "cell_type": "code",
   "execution_count": 32,
   "id": "1c719180",
   "metadata": {},
   "outputs": [],
   "source": [
    "# we want to solve a set of H2 geometries with varying distances"
   ]
  },
  {
   "cell_type": "code",
   "execution_count": 33,
   "id": "217c6b76",
   "metadata": {},
   "outputs": [],
   "source": [
    "#generate a list of distances to calculate at\n",
    "dists=np.linspace(0.4,6,20)\n",
    "#create a list to store our energies at each angle\n",
    "energies=[]"
   ]
  },
  {
   "cell_type": "code",
   "execution_count": 34,
   "id": "2bbf937e",
   "metadata": {},
   "outputs": [
    {
     "name": "stdout",
     "output_type": "stream",
     "text": [
      "converged SCF energy = -0.937032916770662\n",
      "converged SCF energy = -1.15636023776127\n",
      "converged SCF energy = -1.14045881270506\n",
      "converged SCF energy = -1.09178069795247\n",
      "converged SCF energy = -1.04570901218892\n",
      "converged SCF energy = -1.00866646614755\n",
      "converged SCF energy = -0.98072029939252\n",
      "converged SCF energy = -0.960339214944976\n",
      "converged SCF energy = -0.945793372140735\n",
      "converged SCF energy = -0.93556935387987\n",
      "converged SCF energy = -0.928461781146619\n",
      "converged SCF energy = -0.923573016129572\n",
      "converged SCF energy = -0.920251798949372\n",
      "converged SCF energy = -0.918025367812108\n",
      "converged SCF energy = -0.916551958324946\n",
      "converged SCF energy = -0.915500943303226\n",
      "converged SCF energy = -0.914980160745176\n",
      "converged SCF energy = -0.914599168567054\n",
      "converged SCF energy = -0.914369878901053\n",
      "converged SCF energy = -0.914236404504152\n"
     ]
    }
   ],
   "source": [
    "# now we need a loop to calcuate the energy of each geometry\n",
    "for dist in dists:\n",
    "    h2 = gto.M(atom =f\"\"\"\n",
    "        H\n",
    "        H 1 {dist}\n",
    "    \"\"\", basis = 'cc-pvdz', spin=0)\n",
    "    \n",
    "    mypbe=dft.RKS(h2)\n",
    "    mypbe.verbose = 3  #1-9\n",
    "    mypbe.xc = 'pbe' # = 'pbe,pbe'\n",
    "    # do the calcualtion and write the energy into 'energy'\n",
    "    energy = mypbe.kernel()\n",
    "    #append the energy of this calculation to the list of energies\n",
    "    energies.append(energy)\n",
    "    "
   ]
  },
  {
   "cell_type": "code",
   "execution_count": 35,
   "id": "b06b168e",
   "metadata": {},
   "outputs": [],
   "source": [
    "# now we want to graph the list of energies with its corresponding distance."
   ]
  },
  {
   "cell_type": "code",
   "execution_count": 36,
   "id": "de8951bb",
   "metadata": {},
   "outputs": [
    {
     "data": {
      "image/png": "[encoded data removed]",
      "text/plain": [
       "<Figure size 800x600 with 1 Axes>"
      ]
     },
     "metadata": {},
     "output_type": "display_data"
    }
   ],
   "source": [
    "import matplotlib.pyplot as plt\n",
    "\n",
    "# Plotting\n",
    "plt.figure(figsize=(8, 6))\n",
    "plt.scatter(dists, energies, color='b', label='Energy vs Distance', marker='o')\n",
    "plt.xlabel('Distance (Angstrom)')\n",
    "plt.ylabel('Energy (Hartree)')\n",
    "plt.title('Energy vs Distance for H2 molecule')\n",
    "plt.grid(True)\n",
    "plt.legend()\n",
    "plt.tight_layout()\n",
    "\n",
    "# Display the plot\n",
    "plt.show()\n",
    "\n"
   ]
  },
  {
   "cell_type": "code",
   "execution_count": 37,
   "id": "fb0cc90a",
   "metadata": {},
   "outputs": [],
   "source": [
    "# however, what we have computed here are absoulte energies, and we want some reference so we can compare energy differnces:\n",
    "# here, we will use the energy of 2 seperate H atoms as the reference, this would be H2 stretched infintely"
   ]
  },
  {
   "cell_type": "code",
   "execution_count": 38,
   "id": "64bcf783",
   "metadata": {},
   "outputs": [
    {
     "name": "stdout",
     "output_type": "stream",
     "text": [
      "converged SCF energy = -0.498628118400243\n"
     ]
    }
   ],
   "source": [
    "h = gto.M(atom =f\"\"\"\n",
    "    H\n",
    "\"\"\", basis = 'cc-pvdz', spin=1)\n",
    "\n",
    "mypbe=dft.RKS(h)\n",
    "mypbe.verbose = 3  #1-9\n",
    "mypbe.xc = 'pbe' # = 'pbe,pbe'\n",
    "E_h_pbe = mypbe.kernel()"
   ]
  },
  {
   "cell_type": "code",
   "execution_count": 39,
   "id": "7e37e6eb",
   "metadata": {},
   "outputs": [],
   "source": [
    "#now lets do the same calculation as before, but subtract 2*E_h_pbe from each energy "
   ]
  },
  {
   "cell_type": "code",
   "execution_count": 40,
   "id": "3d941051",
   "metadata": {
    "scrolled": true
   },
   "outputs": [
    {
     "name": "stdout",
     "output_type": "stream",
     "text": [
      "converged SCF energy = -0.937032916770662\n",
      "converged SCF energy = -1.13155517157006\n",
      "converged SCF energy = -1.16023727367658\n",
      "converged SCF energy = -1.14193501143512\n",
      "converged SCF energy = -1.11075420612971\n",
      "converged SCF energy = -1.07832318491113\n",
      "converged SCF energy = -1.04861599689238\n",
      "converged SCF energy = -1.02283412127681\n",
      "converged SCF energy = -1.00113465637902\n",
      "converged SCF energy = -0.983230173953262\n",
      "converged SCF energy = -0.96865377971904\n",
      "converged SCF energy = -0.956905082936502\n",
      "converged SCF energy = -0.947511665967953\n",
      "converged SCF energy = -0.940049215335157\n",
      "converged SCF energy = -0.934150275812291\n",
      "converged SCF energy = -0.929507466905022\n",
      "converged SCF energy = -0.925869744708722\n",
      "converged SCF energy = -0.92303399552134\n",
      "converged SCF energy = -0.920835714052842\n",
      "converged SCF energy = -0.919141379865802\n",
      "converged SCF energy = -0.917842864481113\n",
      "converged SCF energy = -0.91685313776189\n",
      "converged SCF energy = -0.916100125621386\n",
      "converged SCF energy = -0.915535321510427\n",
      "converged SCF energy = -0.915121923592462\n",
      "converged SCF energy = -0.91481319376235\n",
      "converged SCF energy = -0.914589129333479\n",
      "converged SCF energy = -0.914428666107956\n",
      "converged SCF energy = -0.914315146742685\n",
      "converged SCF energy = -0.914236404504152\n"
     ]
    },
    {
     "data": {
      "image/png": "[encoded data removed]",
      "text/plain": [
       "<Figure size 800x600 with 1 Axes>"
      ]
     },
     "metadata": {},
     "output_type": "display_data"
    }
   ],
   "source": [
    "dists=np.linspace(0.4,6,30)\n",
    "energies=[]\n",
    "\n",
    "for dist in dists:\n",
    "    h2 = gto.M(atom =f\"\"\"\n",
    "        H\n",
    "        H 1 {dist}\n",
    "    \"\"\", basis = 'cc-pvdz', spin=0)\n",
    "    \n",
    "    mypbe=dft.RKS(h2)\n",
    "    mypbe.verbose = 3  #1-9\n",
    "    mypbe.xc = 'pbe' # = 'pbe,pbe'\n",
    "    energy = mypbe.kernel()\n",
    "    energies.append(energy - (2*E_h_pbe))\n",
    "    \n",
    "plt.figure(figsize=(8, 6))\n",
    "plt.scatter(dists, energies, color='b', label='Energy vs Distance', marker='o')\n",
    "plt.xlabel('Distance (Angstrom)')\n",
    "plt.ylabel('Energy (Hartree)')\n",
    "plt.title('Energy vs Distance for H2 molecule')\n",
    "plt.grid(True)\n",
    "plt.legend()\n",
    "plt.tight_layout()\n",
    "\n",
    "# Display the plot\n",
    "plt.show()"
   ]
  },
  {
   "cell_type": "code",
   "execution_count": 41,
   "id": "b3eb8505",
   "metadata": {},
   "outputs": [],
   "source": [
    "# The energy should converge to 0 at infinite distance, this isnt even close to happening with pbe!"
   ]
  },
  {
   "cell_type": "code",
   "execution_count": 42,
   "id": "b7a8f210",
   "metadata": {
    "scrolled": false
   },
   "outputs": [
    {
     "name": "stdout",
     "output_type": "stream",
     "text": [
      "converged SCF energy = -0.499278403419583\n",
      "0.4\n",
      "0.5931034482758621\n",
      "0.7862068965517242\n",
      "0.9793103448275863\n",
      "1.1724137931034484\n",
      "1.3655172413793104\n",
      "1.5586206896551724\n",
      "1.7517241379310344\n",
      "1.9448275862068964\n",
      "2.1379310344827585\n",
      "2.3310344827586205\n",
      "2.5241379310344825\n",
      "2.717241379310345\n",
      "2.910344827586207\n",
      "3.103448275862069\n",
      "3.296551724137931\n",
      "3.489655172413793\n",
      "3.682758620689655\n",
      "3.875862068965517\n",
      "4.068965517241379\n",
      "4.2620689655172415\n",
      "4.455172413793104\n",
      "4.6482758620689655\n",
      "4.841379310344828\n",
      "5.03448275862069\n",
      "5.227586206896552\n",
      "5.420689655172414\n",
      "5.613793103448276\n",
      "5.806896551724138\n",
      "6.0\n"
     ]
    },
    {
     "data": {
      "image/png": "[encoded data removed]",
      "text/plain": [
       "<Figure size 800x600 with 1 Axes>"
      ]
     },
     "metadata": {},
     "output_type": "display_data"
    }
   ],
   "source": [
    "# lets add a FCI calculation and compare\n",
    "dists=np.linspace(0.4,6,30)\n",
    "energies_pbe=[]\n",
    "energies_fci=[]\n",
    "\n",
    "#find the reference H with fci\n",
    "myhf=scf.RHF(h)\n",
    "myhf.kernel()\n",
    "myfci = pyscf.fci.FCI(myhf)\n",
    "myfci.kernel()\n",
    "E_h_fci= myfci.e_tot\n",
    "\n",
    "\n",
    "for dist in dists:\n",
    "    print(dist)\n",
    "    h2 = gto.M(atom =f\"\"\"\n",
    "        H\n",
    "        H 1 {dist}\n",
    "    \"\"\", basis = 'cc-pvdz', spin=0)\n",
    "    \n",
    "    mypbe=dft.RKS(h2)\n",
    "    mypbe.verbose = 0  #1-9\n",
    "    mypbe.xc = 'pbe' # = 'pbe,pbe'\n",
    "    energy_pbe = mypbe.kernel()\n",
    "    energies_pbe.append(energy_pbe - (2*E_h_pbe))\n",
    "    \n",
    "    myhf=scf.RHF(h2)\n",
    "    myhf.verbose = 0\n",
    "    myhf.kernel()\n",
    "    myfci = pyscf.fci.FCI(myhf)\n",
    "    myfci.verbose = 0\n",
    "    myfci.kernel()\n",
    "    energy_fci = myfci.e_tot\n",
    "    energies_fci.append(energy_fci - (2*E_h_fci))\n",
    "    \n",
    "# Plotting\n",
    "plt.figure(figsize=(8, 6))\n",
    "# Plot PBE energies\n",
    "plt.scatter(dists, energies_pbe, color='b', label='PBE Energy', marker='o')\n",
    "# Plot FCI energies\n",
    "plt.scatter(dists, energies_fci, color='r', label='FCI Energy', marker='s')\n",
    "\n",
    "plt.xlabel('Distance (Angstrom)')\n",
    "plt.ylabel('Energy (Hartree)')\n",
    "plt.title('Energy vs Distance for H2 molecule')\n",
    "plt.grid(True)\n",
    "plt.legend(loc='lower right')\n",
    "plt.tight_layout()\n",
    "\n",
    "# Display the plot\n",
    "plt.show()"
   ]
  },
  {
   "cell_type": "code",
   "execution_count": 43,
   "id": "431e2c49",
   "metadata": {},
   "outputs": [],
   "source": [
    "# fci converges to 0 very quickly!"
   ]
  },
  {
   "cell_type": "markdown",
   "id": "5463c316",
   "metadata": {},
   "source": [
    "You can try and play around with different methods/functionals and see how they perform at recreating the FCI (exact) H2 dissociation curve"
   ]
  },
  {
   "cell_type": "code",
   "execution_count": null,
   "id": "7e61ed85",
   "metadata": {},
   "outputs": [],
   "source": []
  }
 ],
 "metadata": {
  "kernelspec": {
   "display_name": "psi4_1.8_pyscf_2.3.0",
   "language": "python",
   "name": "psi4_1.8_pyscf_2.3.0-py3.8.5"
  },
  "language_info": {
   "codemirror_mode": {
    "name": "ipython",
    "version": 3
   },
   "file_extension": ".py",
   "mimetype": "text/x-python",
   "name": "python",
   "nbconvert_exporter": "python",
   "pygments_lexer": "ipython3",
   "version": "3.8.5"
  }
 },
 "nbformat": 4,
 "nbformat_minor": 5
}
